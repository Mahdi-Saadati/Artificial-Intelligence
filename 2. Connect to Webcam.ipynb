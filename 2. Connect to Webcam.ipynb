{
  "cells": [
    {
      "cell_type": "markdown",
      "metadata": {
        "id": "view-in-github",
        "colab_type": "text"
      },
      "source": [
        "<a href=\"https://colab.research.google.com/github/Mahdi-Saadati/Artificial-Intelligence/blob/main/2.%20Connect%20to%20Webcam.ipynb\" target=\"_parent\"><img src=\"https://colab.research.google.com/assets/colab-badge.svg\" alt=\"Open In Colab\"/></a>"
      ]
    },
    {
      "cell_type": "markdown",
      "metadata": {
        "id": "Ce1VLl7ze_Tk"
      },
      "source": [
        "\n",
        "<div dir=\"rtl\" align=\"right\">\n",
        "\n",
        "کد پایتون برای اتصال به وبکم بر روی IDE کامپیوتر"
      ]
    },
    {
      "cell_type": "code",
      "execution_count": null,
      "metadata": {
        "id": "dKM2qCfwe_To"
      },
      "outputs": [],
      "source": [
        "import cv2  # وارد کردن کتابخانه OpenCV برای کار با تصویر و ویدیو\n",
        "\n",
        "cap = cv2.VideoCapture(0)  # روشن کردن وبکم (عدد 0 یعنی وبکم پیش‌فرض لپ‌تاپ)\n",
        "\n",
        "while True:  # یک حلقه بی‌نهایت برای نمایش زنده تصویر وبکم\n",
        "    ret, frame = cap.read()  # خواندن یک فریم از وبکم (ret: موفق بودن عملیات، frame: تصویر)\n",
        "    flipped = cv2.flip(frame, 1)  # برعکس کردن تصویر در جهت افقی (مثل آینه)\n",
        "    cv2.imshow('Webcam', flipped)  # نمایش تصویر در یک پنجره با عنوان 'Webcam'\n",
        "\n",
        "    if cv2.waitKey(1) & 0xFF == 27:  # اگر کلید Esc (کد 27) فشرده شد، از حلقه خارج شو\n",
        "        break\n",
        "\n",
        "# پس از خروج از حلقه:\n",
        "cap.release()  # آزاد کردن دوربین (خاموش کردن وبکم)\n",
        "cv2.destroyAllWindows()  # بستن تمام پنجره‌های باز شده توسط OpenCV\n"
      ]
    }
  ],
  "metadata": {
    "kernelspec": {
      "display_name": "Python 3",
      "language": "python",
      "name": "python3"
    },
    "language_info": {
      "codemirror_mode": {
        "name": "ipython",
        "version": 3
      },
      "file_extension": ".py",
      "mimetype": "text/x-python",
      "name": "python",
      "nbconvert_exporter": "python",
      "pygments_lexer": "ipython3",
      "version": "3.7.2"
    },
    "colab": {
      "provenance": [],
      "include_colab_link": true
    }
  },
  "nbformat": 4,
  "nbformat_minor": 0
}