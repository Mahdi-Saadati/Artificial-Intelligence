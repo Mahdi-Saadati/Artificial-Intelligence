{
  "nbformat": 4,
  "nbformat_minor": 0,
  "metadata": {
    "colab": {
      "provenance": [],
      "authorship_tag": "ABX9TyMGaxvZs7tZlXrcLHy7jWL7",
      "include_colab_link": true
    },
    "kernelspec": {
      "name": "python3",
      "display_name": "Python 3"
    },
    "language_info": {
      "name": "python"
    }
  },
  "cells": [
    {
      "cell_type": "markdown",
      "metadata": {
        "id": "view-in-github",
        "colab_type": "text"
      },
      "source": [
        "<a href=\"https://colab.research.google.com/github/Mahdi-Saadati/Artificial-Intelligence/blob/main/4.%20Hand%20Detection.ipynb\" target=\"_parent\"><img src=\"https://colab.research.google.com/assets/colab-badge.svg\" alt=\"Open In Colab\"/></a>"
      ]
    },
    {
      "cell_type": "markdown",
      "source": [
        "<div dir=\"rtl\" align=\"right\">\n",
        "کد پایتون تشخیص دست"
      ],
      "metadata": {
        "id": "hZrWzh0BrukD"
      }
    },
    {
      "cell_type": "code",
      "source": [
        "import cv2  # کتابخانه کار با دوربین و تصویر\n",
        "import mediapipe as mp  # کتابخانه مخصوص تشخیص دست و اعضای بدن\n",
        "\n",
        "mpHands = mp.solutions.hands  # قسمت تشخیص دست از mediapipe\n",
        "hands = mpHands.Hands()  # ساخت یک مدل برای پیدا کردن دست‌ها\n",
        "mpDraw = mp.solutions.drawing_utils  # ابزار برای کشیدن خط و نقطه روی تصویر\n",
        "\n",
        "cam = cv2.VideoCapture(0)  # روشن کردن وبکم (0 یعنی وبکم اصلی کامپیوتر)\n",
        "\n",
        "while True:  # یک حلقه تا وقتی که کاربر نخواسته برنامه رو ببنده\n",
        "    success, img = cam.read()  # گرفتن تصویر از وبکم\n",
        "    img = cv2.flip(img, 1)  # برعکس کردن تصویر مثل آینه (راحت‌تر برای کاربر)\n",
        "    if not success:  # اگر نتونست تصویر بگیره\n",
        "        break  # برنامه رو متوقف کن\n",
        "\n",
        "    imgRGB = cv2.cvtColor(img, cv2.COLOR_BGR2RGB)  # تبدیل تصویر از BGR به RGB (mediapipe این رنگ رو می‌خواد)\n",
        "    results = hands.process(imgRGB)  # پردازش تصویر برای پیدا کردن دست\n",
        "\n",
        "    if results.multi_hand_landmarks:  # اگر دست پیدا شد\n",
        "        for handLms in results.multi_hand_landmarks:  # برای هر دست پیدا شده\n",
        "            mpDraw.draw_landmarks(img, handLms, mpHands.HAND_CONNECTIONS)  # کشیدن نقاط و خطوط دست روی تصویر\n",
        "\n",
        "    cv2.imshow(\"تشخیص دست\", img)  # نمایش تصویر در پنجره\n",
        "    if cv2.waitKey(1) & 0xFF == ord('q'):  # اگر کاربر کلید q را زد، برنامه متوقف شود\n",
        "        break\n",
        "\n",
        "cam.release()  # خاموش کردن وبکم\n",
        "cv2.destroyAllWindows()  # بستن همه پنجره‌ها\n",
        "\n"
      ],
      "metadata": {
        "id": "NLWU9QYesTXc"
      },
      "execution_count": null,
      "outputs": []
    }
  ]
}