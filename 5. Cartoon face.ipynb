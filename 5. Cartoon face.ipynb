{
  "nbformat": 4,
  "nbformat_minor": 0,
  "metadata": {
    "colab": {
      "provenance": [],
      "authorship_tag": "ABX9TyNFaidPnTV9ws/8/zmo/Ck7",
      "include_colab_link": true
    },
    "kernelspec": {
      "name": "python3",
      "display_name": "Python 3"
    },
    "language_info": {
      "name": "python"
    }
  },
  "cells": [
    {
      "cell_type": "markdown",
      "metadata": {
        "id": "view-in-github",
        "colab_type": "text"
      },
      "source": [
        "<a href=\"https://colab.research.google.com/github/Mahdi-Saadati/Artificial-Intelligence/blob/main/5.%20Cartoon%20face.ipynb\" target=\"_parent\"><img src=\"https://colab.research.google.com/assets/colab-badge.svg\" alt=\"Open In Colab\"/></a>"
      ]
    },
    {
      "cell_type": "markdown",
      "source": [
        "<div dir=\"rtl\" align=\"right\">\n",
        "فیلترهای کارتونی یا سیاه و سفید\n"
      ],
      "metadata": {
        "id": "hZrWzh0BrukD"
      }
    },
    {
      "cell_type": "code",
      "source": [
        "import cv2  # کتابخانه کار با دوربین و پردازش تصویر\n",
        "\n",
        "cam = cv2.VideoCapture(0)  # روشن کردن وبکم\n",
        "\n",
        "while True:  # حلقه برای گرفتن تصویر تا وقتی که کاربر خارج شود\n",
        "    ret, frame = cam.read()  # گرفتن تصویر از وبکم\n",
        "    if not ret:  # اگر تصویر گرفته نشد\n",
        "        break\n",
        "\n",
        "    frame = cv2.flip(frame, 1)  # برعکس کردن تصویر مثل آینه\n",
        "\n",
        "    # فیلتر سیاه و سفید\n",
        "    gray = cv2.cvtColor(frame, cv2.COLOR_BGR2GRAY)  # تبدیل تصویر به سیاه و سفید\n",
        "\n",
        "    # فیلتر کارتونی\n",
        "    gray_blur = cv2.medianBlur(gray, 5)  # نرم کردن تصویر برای حذف نویز\n",
        "    edges = cv2.adaptiveThreshold(gray_blur, 255, cv2.ADAPTIVE_THRESH_MEAN_C,\n",
        "                                  cv2.THRESH_BINARY, 9, 9)  # پیدا کردن خطوط\n",
        "    color = cv2.bilateralFilter(frame, 9, 250, 250)  # صاف کردن رنگ‌ها\n",
        "    cartoon = cv2.bitwise_and(color, color, mask=edges)  # ترکیب خطوط با رنگ‌ها\n",
        "\n",
        "    # نمایش همزمان سه تصویر\n",
        "    cv2.imshow(\"Orginal\", frame)\n",
        "    cv2.imshow(\"Black and White\", gray)\n",
        "    cv2.imshow(\"cartoon\", cartoon)\n",
        "\n",
        "    if cv2.waitKey(1) & 0xFF == ord('q'):  # خروج با زدن q\n",
        "        break\n",
        "\n",
        "cam.release()\n",
        "cv2.destroyAllWindows()\n"
      ],
      "metadata": {
        "id": "NLWU9QYesTXc"
      },
      "execution_count": null,
      "outputs": []
    }
  ]
}