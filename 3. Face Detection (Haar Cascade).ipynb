{
  "nbformat": 4,
  "nbformat_minor": 0,
  "metadata": {
    "colab": {
      "provenance": [],
      "authorship_tag": "ABX9TyNQyRCXQc7LdrLJEFxtHHq0",
      "include_colab_link": true
    },
    "kernelspec": {
      "name": "python3",
      "display_name": "Python 3"
    },
    "language_info": {
      "name": "python"
    }
  },
  "cells": [
    {
      "cell_type": "markdown",
      "metadata": {
        "id": "view-in-github",
        "colab_type": "text"
      },
      "source": [
        "<a href=\"https://colab.research.google.com/github/Mahdi-Saadati/Artificial-Intelligence/blob/main/3.%20Face%20Detection%20(Haar%20Cascade).ipynb\" target=\"_parent\"><img src=\"https://colab.research.google.com/assets/colab-badge.svg\" alt=\"Open In Colab\"/></a>"
      ]
    },
    {
      "cell_type": "markdown",
      "source": [
        "<div dir=\"rtl\" align=\"right\">\n",
        "تشخیص چهره (Face Detection)\n",
        "\n",
        "الگوریتم Haar Cascade چیست؟\n",
        "\n",
        "\n",
        "الگوریتم Haar Cascade یک روش هوشمند است که کامپیوتر با آن می‌تواند چهره‌ی انسان‌ها را در عکس یا فیلم تشخیص بدهد.\n",
        "\n",
        "بیایید با یک مثال خیلی ساده توضیح بدهم:\n",
        "\n",
        "\n",
        "🎯 فرض کن می‌خواهیم صورت یک آدم را در یک عکس پیدا کنیم...\n",
        "\n",
        "کامپیوتر نمی‌داند \"صورت\" یعنی چی! نه چشم دیده، نه بینی، نه دهان!\n",
        "\n",
        "پس چطور باید بفهمد؟\n",
        "\n",
        "🤖 الگوریتم Haar Cascade به کمک می‌آید!\n",
        "\n",
        "الگوریتم Haar Cascade مثل یک کارآگاه با ذره‌بین می‌ماند که:\n",
        "\n",
        "\n",
        "🔍 تکه‌تکه به عکس نگاه می‌کند. (از بالا به پایین، از چپ به راست)\n",
        "\n",
        "\n",
        "👀 به دنبال چیزهایی شبیه صورت می‌گردد:\n",
        "\n",
        "مثلاً دوتا نقطه تیره کنار هم = ممکنه چشم باشه!\n",
        "\n",
        "زیرش یک قسمت روشن = شاید بینی باشه!\n",
        "\n",
        "اگر این ترکیب‌ها را پیدا کرد، می‌گوید:\n",
        "\n",
        "«آها! اینجا احتمالاً یک صورت پیدا کردم!»\n",
        "\n",
        "\n",
        "🧱 این \"ترکیب‌ها\" یا \"الگوها\" به آن‌ها می‌گویند ویژگی‌های Haar.\n",
        "این ویژگی‌ها مثل آجرهای کوچکی هستند که با آن‌ها صورت را تشخیص می‌دهیم.\n",
        "\n",
        "الگوریتم هزاران نمونه از صورت‌های واقعی دیده و یاد گرفته که چطور صورت را پیدا کند.\n",
        "\n",
        "✅ در پایان:\n",
        "وقتی این الگوریتم روی عکس اجرا می‌شود، به ما می‌گوید:\n",
        "\n",
        "«اینجا یک صورت هست! اینجا هم یکی دیگه!»\n",
        "\n",
        "و دور صورت‌ها یک مربع یا مستطیل می‌کشد.\n",
        "\n",
        "📸 مثال واقعی:\n",
        "اگر وب‌کم را روشن کنیم و این الگوریتم را اجرا کنیم، می‌تواند صورت تو را در تصویر پیدا کند و دورش خط بکشد!\n",
        "\n",
        "در اینجا یک کد ساده پایتون برای اتصال به وبکم و تشخیص چهره با استفاده از شبکه عصبی (شبکه Haar Cascade که توسط OpenCV فراهم شده) آورده‌ام. این روش ساده و سریع است.\n",
        "\n",
        "📌 توضیح ساده:\n",
        "\n",
        "از وبکم تصویر زنده می‌گیریم.\n",
        "\n",
        "آن را خاکستری می‌کنیم چون مدل شبکه فقط نیاز به اطلاعات شدت نور دارد.\n",
        "\n",
        "مدل Haar Cascade چهره‌ها را شناسایی می‌کند.\n",
        "\n",
        "یک مستطیل دور چهره‌ها می‌کشیم.\n",
        "\n",
        "با زدن کلید q از برنامه خارج می‌شویم."
      ],
      "metadata": {
        "id": "hZrWzh0BrukD"
      }
    },
    {
      "cell_type": "code",
      "source": [
        "import cv2  # وارد کردن کتابخانه OpenCV برای کار با تصویر و ویدیو\n",
        "\n",
        "# بارگذاری مدل آماده‌ای که می‌تونه چهره‌ها رو پیدا کنه\n",
        "face_cascade = cv2.CascadeClassifier(cv2.data.haarcascades + 'haarcascade_frontalface_default.xml')\n",
        "\n",
        "# روشن کردن وبکم لپ‌تاپ\n",
        "cap = cv2.VideoCapture(0)\n",
        "\n",
        "while True:  # یک حلقه که همیشه تکرار میشه (تا وقتی که دکمه \"Esc\" زده بشه)\n",
        "    ret, frame = cap.read()  # گرفتن یک عکس (فریم) از وبکم\n",
        "    frame = cv2.flip(frame, 1)  # برعکس کردن تصویر مثل آینه (راحت‌تر برای کاربر)\n",
        "\n",
        "    gray = cv2.cvtColor(frame, cv2.COLOR_BGR2GRAY)  # تبدیل تصویر رنگی به سیاه و سفید برای بهتر دیدن چهره‌ها\n",
        "\n",
        "    faces = face_cascade.detectMultiScale(gray, scaleFactor=1.1, minNeighbors=5)  # پیدا کردن چهره‌ها داخل تصویر\n",
        "\n",
        "    for (x, y, w, h) in faces:  # برای هر چهره‌ای که پیدا شد (مختصاتش رو داریم)\n",
        "        cv2.rectangle(frame, (x, y), (x+w, y+h), (255, 0, 0), 2)  # کشیدن مستطیل آبی دور چهره\n",
        "\n",
        "    cv2.imshow('Face Detection', frame)  # نمایش تصویر در پنجره‌ای به نام 'Face Detection'\n",
        "\n",
        "    if cv2.waitKey(1) & 0xFF == 27:  # اگر دکمه Esc روی کیبورد زده شد، حلقه قطع میشه\n",
        "        break\n",
        "\n",
        "cap.release()  # خاموش کردن وبکم\n",
        "cv2.destroyAllWindows()  # بستن همه پنجره‌های باز شده"
      ],
      "metadata": {
        "id": "NLWU9QYesTXc"
      },
      "execution_count": null,
      "outputs": []
    }
  ]
}